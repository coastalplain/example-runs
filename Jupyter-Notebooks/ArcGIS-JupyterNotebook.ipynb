{
 "cells": [
  {
   "cell_type": "markdown",
   "metadata": {},
   "source": [
    "# Just testing if ArcGIS Python API is installed and working"
   ]
  },
  {
   "cell_type": "code",
   "execution_count": 6,
   "metadata": {
    "scrolled": true
   },
   "outputs": [
    {
     "data": {
      "application/vnd.jupyter.widget-view+json": {
       "model_id": "c2b2becb37504b5cbdd46d10e3b5ff93",
       "version_major": 2,
       "version_minor": 0
      },
      "text/plain": [
       "MapView(layout=Layout(height='400px', width='100%'))"
      ]
     },
     "metadata": {},
     "output_type": "display_data"
    },
    {
     "data": {
      "text/html": [
       "<div class=\"map-static-img-preview-5d9e2725-c5ee-494f-9c42-dda5f5f4ea53\"><img src=\"\"></img></div>"
      ],
      "text/plain": [
       "<IPython.core.display.HTML object>"
      ]
     },
     "metadata": {},
     "output_type": "display_data"
    }
   ],
   "source": [
    "from arcgis.gis import GIS\n",
    "my_gis = GIS()\n",
    "m = my_gis.map()\n",
    "m"
   ]
  },
  {
   "cell_type": "markdown",
   "metadata": {},
   "source": [
    "# GIS people, please do what you do"
   ]
  },
  {
   "cell_type": "code",
   "execution_count": 3,
   "metadata": {},
   "outputs": [
    {
     "data": {
      "application/vnd.jupyter.widget-view+json": {
       "model_id": "d8021a9990bc41a0be008665fe84cd11",
       "version_major": 2,
       "version_minor": 0
      },
      "text/plain": [
       "MapView(layout=Layout(height='400px', width='100%'), zoom=11.0)"
      ]
     },
     "metadata": {},
     "output_type": "display_data"
    },
    {
     "data": {
      "text/html": [
       "<div class=\"map-static-img-preview-6edeb60d-96cc-4cd1-b999-1e273df8b404\"><img src=\"\"></img></div>"
      ],
      "text/plain": [
       "<IPython.core.display.HTML object>"
      ]
     },
     "metadata": {},
     "output_type": "display_data"
    }
   ],
   "source": [
    "ago_gis = GIS() # Connect to ArcGIS Online as an anonymous user\n",
    "search_subset = ago_gis.content.search(\"NYC_taxi_subset\", item_type = \"Feature Layer\")\n",
    "subset_item = search_subset[0]\n",
    "subset_item\n",
    "subset_map = ago_gis.map(\"New York, NY\", zoomlevel=11)\n",
    "subset_map"
   ]
  },
  {
   "cell_type": "markdown",
   "metadata": {},
   "source": [
    "# Examples\n",
    "\n",
    "There are a lot of examples at https://github.com/Esri/arcgis-python-api/tree/master/samples\n",
    "    \n",
    "Please clone that repository and go through the samples.\n",
    "\n",
    "\n",
    "**The suggested order of viewing the sample notebooks is the following:**\n",
    "\n",
    "Get Started\n",
    "\t- Overview\n",
    "\n",
    "Power Users / Developers\n",
    "\t- Using the GIS\n",
    "\t- The Map widget and it's Basemaps\n",
    "\t- Using Geoprocessing tools\n",
    "\t- Using the Geometry service\n",
    "\t- Smart Mapping\n",
    "\n",
    "Org Administrators\n",
    "\t- Faces of GIS\n",
    "\t- Batch creation of Groups\n",
    "\t- Clone Portal Users, Groups and Content\n",
    "\n",
    "GIS Analysts and Data Scientists\n",
    "\t- Chennai Floods Analysis\n",
    "\t- Fighting California forest fires using spatial analysis\n",
    "    - Creating Hurricane Tracks using BigData Analytics\n",
    "    - Analyze NewYork city taxi data\n",
    "\t- Creating Raster Information Product using Raster GeoAnalytics\n",
    "\n",
    "Content Publishers\n",
    "\t- HTML table to Pandas dataframe to Portal Item\n",
    "\t- Publishing SDs, Shapefiles and CSVs\n",
    "    - Publishing web maps and web scenes\n",
    "    - Creating Raster Information Product using Raster GeoAnalytics\n",
    "\t- Using and updating GIS content"
   ]
  },
  {
   "cell_type": "code",
   "execution_count": null,
   "metadata": {},
   "outputs": [],
   "source": []
  }
 ],
 "metadata": {
  "kernelspec": {
   "display_name": "Python 3",
   "language": "python",
   "name": "python3"
  },
  "language_info": {
   "codemirror_mode": {
    "name": "ipython",
    "version": 3
   },
   "file_extension": ".py",
   "mimetype": "text/x-python",
   "name": "python",
   "nbconvert_exporter": "python",
   "pygments_lexer": "ipython3",
   "version": "3.5.6"
  }
 },
 "nbformat": 4,
 "nbformat_minor": 2
}
